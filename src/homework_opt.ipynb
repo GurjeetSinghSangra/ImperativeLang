{
  "nbformat": 4,
  "nbformat_minor": 0,
  "metadata": {
    "colab": {
      "name": "homework_opt.ipynb",
      "provenance": [],
      "collapsed_sections": []
    },
    "kernelspec": {
      "name": "python3",
      "display_name": "Python 3"
    },
    "language_info": {
      "name": "python"
    }
  },
  "cells": [
    {
      "cell_type": "code",
      "metadata": {
        "id": "P7YZGhjetVnF"
      },
      "source": [
        "import numpy as np\n",
        "from sklearn.metrics import pairwise_distances\n",
        "import matplotlib.pyplot as plt\n",
        "import timeit\n",
        "import time"
      ],
      "execution_count": 30,
      "outputs": []
    },
    {
      "cell_type": "code",
      "metadata": {
        "id": "MiXqbMFWu5ci"
      },
      "source": [
        "def similarity(X1,X2, mode, params=None):\n",
        "  if mode == 'eu2+':\n",
        "    return 1/ (1 + pairwise_distances(X1, X2, metric='euclidean', n_jobs=None))\n",
        "  if mode == 'gauss':\n",
        "    return np.exp(-(pairwise_distances(X1, X2, metric='euclidean', n_jobs=None) ** 2) / 2 * params[0])"
      ],
      "execution_count": 31,
      "outputs": []
    },
    {
      "cell_type": "code",
      "metadata": {
        "id": "k1YScWsrwIhl"
      },
      "source": [
        "# labeled:\n",
        "l1 = np.random.normal(loc=1, scale=1, size=(20, 2))\n",
        "l2 = np.random.normal(loc=3, scale=1, size=(20, 2)) \n",
        "\n",
        "# unlabeled:\n",
        "u1 = np.random.normal(loc=1, scale=1, size=(100, 2))\n",
        "u2 = np.random.normal(loc=3, scale=1, size=(100, 2)) "
      ],
      "execution_count": 32,
      "outputs": []
    },
    {
      "cell_type": "code",
      "metadata": {
        "colab": {
          "base_uri": "https://localhost:8080/",
          "height": 265
        },
        "id": "QjP2Iclo2max",
        "outputId": "ae85b7ce-48e4-49dd-f8ff-70af87dc2771"
      },
      "source": [
        "plt.scatter(u1[:, 0], u1[:, 1], alpha=0.5, c='black')\n",
        "plt.scatter(u2[:, 0], u2[:, 1], alpha=0.5, c='black')\n",
        "plt.scatter(l1[:, 0], l1[:, 1], alpha=0.5)\n",
        "plt.scatter(l2[:, 0], l2[:, 1], alpha=0.5)\n",
        "plt.show()"
      ],
      "execution_count": 33,
      "outputs": [
        {
          "output_type": "display_data",
          "data": {
            "image/png": "[encoded data removed]",
            "text/plain": [
              "<Figure size 432x288 with 1 Axes>"
            ]
          },
          "metadata": {
            "tags": [],
            "needs_background": "light"
          }
        }
      ]
    },
    {
      "cell_type": "code",
      "metadata": {
        "id": "peJxqbIY6QP1"
      },
      "source": [
        "def loss_fun(W, W_bar, Y, Y_bar):\n",
        "  sum = 0\n",
        "  for i in range(0, len(Y_bar)):\n",
        "    for j in range(0, len(Y)):\n",
        "      sum += W[i,j] * (Y[j] - Y_bar[i]) ** 2\n",
        "  for i in range(0, len(Y)):\n",
        "    for j in range(0, len(Y)):\n",
        "      sum += (W_bar[i,j] * (Y[i] - Y[j]) ** 2) / 2\n",
        "  return sum"
      ],
      "execution_count": 34,
      "outputs": []
    },
    {
      "cell_type": "code",
      "metadata": {
        "id": "220qV58yR5m8"
      },
      "source": [
        "def grad_fun(W, W_bar, Y, Y_bar):\n",
        "  grad = np.zeros((len(Y), 1))\n",
        "  for j in range(0, len(grad)):\n",
        "    for i in range(0, len(Y_bar)):\n",
        "      grad[j] += W[i,j] * (Y[j] - Y_bar[i]) * 2\n",
        "    for i in range(0, len(Y)):\n",
        "      grad[j] += W_bar[i,j] * (Y[j] - Y[i]) * 2\n",
        "  return grad"
      ],
      "execution_count": 35,
      "outputs": []
    },
    {
      "cell_type": "code",
      "metadata": {
        "id": "HMwQCM7rNvKT"
      },
      "source": [
        "def grad_fun_block(W, W_bar, Y, Y_bar, j):\n",
        "  grad = 0\n",
        "  for i in range(0, len(Y_bar)):\n",
        "    grad += W[i,j] * (Y[j] - Y_bar[i]) * 2\n",
        "  for i in range(0, len(Y)):\n",
        "    grad += W_bar[i,j] * (Y[j] - Y[i]) * 2\n",
        "  return grad"
      ],
      "execution_count": 36,
      "outputs": []
    },
    {
      "cell_type": "code",
      "metadata": {
        "id": "5ZUy_DODVIQL"
      },
      "source": [
        "def GD(W, W_bar, Y, Y_bar, alpha, max_it, toll):\n",
        "  loss_history = []\n",
        "  grad_norm_history = []\n",
        "  time_history = []      \n",
        "\n",
        "  loss = loss_fun(W, W_bar, Y, Y_bar)\n",
        "  grad = grad_fun(W, W_bar, Y, Y_bar)\n",
        "\n",
        "  start = timeit.default_timer()\n",
        "  \n",
        "  it = 0\n",
        "  while it < max_it and np.linalg.norm(grad)>=toll:\n",
        "    loss_history.append(loss)\n",
        "    grad_norm_history.append(np.linalg.norm(grad))\n",
        "    Y = Y - alpha * grad\n",
        "    \n",
        "    loss = loss_fun(W, W_bar, Y, Y_bar)\n",
        "    grad = grad_fun(W, W_bar, Y, Y_bar)\n",
        "\n",
        "    time_history.append(timeit.default_timer() - start)\n",
        "    it = it+1\n",
        "    #print(it)\n",
        "  \n",
        "  return Y, loss_history, grad_norm_history, time_history"
      ],
      "execution_count": 37,
      "outputs": []
    },
    {
      "cell_type": "code",
      "metadata": {
        "id": "VG3m-iNP-Nzn"
      },
      "source": [
        "def BCGD_cyclic(W, W_bar, Y, Y_bar, alpha, max_it, toll):\n",
        "  \n",
        "  loss_history = []\n",
        "  grad_norm_history = []\n",
        "  time_history = []     \n",
        "\n",
        "  grad = np.ones((len(Y),1))\n",
        "  start = timeit.default_timer()\n",
        "  it = 0\n",
        "  while it < max_it and np.linalg.norm(grad)>=toll:\n",
        "    temp = Y\n",
        "    for block in range(0, len(Y)):\n",
        "      U_block = np.zeros((len(Y), 1)) \n",
        "      U_block[block] = 1\n",
        "      grad[block] = grad_fun_block(W, W_bar, temp, Y_bar, block)\n",
        "      temp = temp - alpha * U_block * grad[block]\n",
        "\n",
        "    Y = temp\n",
        "    loss = loss_fun(W, W_bar, Y, Y_bar)\n",
        "    loss_history.append(loss)\n",
        "    grad_norm_history.append(np.linalg.norm(grad))\n",
        "\n",
        "    time_history.append(timeit.default_timer() - start)\n",
        "    it = it+1\n",
        "    #print(it)\n",
        "  \n",
        "  return Y, loss_history, grad_norm_history, time_history"
      ],
      "execution_count": 38,
      "outputs": []
    },
    {
      "cell_type": "code",
      "metadata": {
        "id": "6zU-7q0YBvpo"
      },
      "source": [
        "#EXAMPLE\n",
        "l = np.concatenate((l1,l2),axis=0)\n",
        "u = np.concatenate((u1,u2),axis=0)\n",
        "labels = np.ones((len(l1),1))\n",
        "labels = np.concatenate((labels, -np.ones((len(l2),1))), axis=0)\n",
        "\n",
        "W = similarity(l,u,'eu2+')\n",
        "W_bar = similarity(u,u,'eu2+')\n",
        "y = np.random.rand(len(u),1)\n",
        "y[y>0.5] = 1\n",
        "y[y<=0.5] = -1\n"
      ],
      "execution_count": 39,
      "outputs": []
    },
    {
      "cell_type": "code",
      "metadata": {
        "id": "enLtq0nCGUg_"
      },
      "source": [
        "Y1, loss_history1, grad_norm_history1, time_history1 = GD(W, W_bar, y, labels, 1e-2, 100, 1e-2)           # terminates in 83 iterations\n",
        "Y2, loss_history2, grad_norm_history2, time_history2 = BCGD_cyclic(W, W_bar, y, labels, 1e-2, 100, 1e-2)  # terminates in 72 iterations"
      ],
      "execution_count": null,
      "outputs": []
    },
    {
      "cell_type": "code",
      "metadata": {
        "colab": {
          "base_uri": "https://localhost:8080/"
        },
        "id": "ExNKadcH7Lqq",
        "outputId": "3cdc65aa-988a-435a-e519-bc0709a63792"
      },
      "source": [
        "print(loss_history1[-1])\n",
        "print(loss_history2[-1])\n",
        "print(grad_norm_history1[-1])\n",
        "print(grad_norm_history2[-1])"
      ],
      "execution_count": 41,
      "outputs": [
        {
          "output_type": "stream",
          "text": [
            "[2618.66388276]\n",
            "[2618.66300428]\n",
            "0.5849544435469133\n",
            "0.05096148193601021\n"
          ],
          "name": "stdout"
        }
      ]
    },
    {
      "cell_type": "code",
      "metadata": {
        "id": "0ZKc5wRELdvs",
        "outputId": "9b459f66-10b4-47fd-8e0b-4112f83923d1",
        "colab": {
          "base_uri": "https://localhost:8080/",
          "height": 281
        }
      },
      "source": [
        "fig, (ax1, ax2) = plt.subplots(1, 2)\n",
        "ax1.plot(np.arange(0, len(loss_history1)), loss_history1)\n",
        "ax1.set_title('Full Gradient Loss')\n",
        "ax2.plot(np.arange(0, len(loss_history2)), loss_history2)\n",
        "ax2.set_title('Cyclic BCDG Loss')\n",
        "plt.show()"
      ],
      "execution_count": 50,
      "outputs": [
        {
          "output_type": "display_data",
          "data": {
            "image/png": "[encoded data removed]",
            "text/plain": [
              "<Figure size 432x288 with 2 Axes>"
            ]
          },
          "metadata": {
            "tags": [],
            "needs_background": "light"
          }
        }
      ]
    },
    {
      "cell_type": "code",
      "metadata": {
        "id": "FIWqWDhIMysW",
        "outputId": "30518230-b41f-491a-951c-498c8633bb89",
        "colab": {
          "base_uri": "https://localhost:8080/",
          "height": 281
        }
      },
      "source": [
        "fig, (ax1, ax2) = plt.subplots(1, 2)\n",
        "ax1.plot(time_history1, grad_norm_history1)\n",
        "ax1.set_title('Full Gradient Loss')\n",
        "ax2.plot( time_history2, grad_norm_history2)\n",
        "ax2.set_title('Cyclic BCDG Loss')\n",
        "plt.show()"
      ],
      "execution_count": 57,
      "outputs": [
        {
          "output_type": "display_data",
          "data": {
            "image/png": "[encoded data removed]",
            "text/plain": [
              "<Figure size 432x288 with 2 Axes>"
            ]
          },
          "metadata": {
            "tags": [],
            "needs_background": "light"
          }
        }
      ]
    }
  ]
}