{
  "nbformat": 4,
  "nbformat_minor": 0,
  "metadata": {
    "colab": {
      "name": "emnist_DBN.ipynb",
      "provenance": [],
      "collapsed_sections": [],
      "include_colab_link": true
    },
    "kernelspec": {
      "name": "python3",
      "display_name": "Python 3"
    },
    "accelerator": "GPU"
  },
  "cells": [
    {
      "cell_type": "markdown",
      "metadata": {
        "id": "view-in-github",
        "colab_type": "text"
      },
      "source": [
        "<a href=\"https://colab.research.google.com/github/GurjeetSinghSangra/ImperativeLang/blob/master/emnist_DBN.ipynb\" target=\"_parent\"><img src=\"https://colab.research.google.com/assets/colab-badge.svg\" alt=\"Open In Colab\"/></a>"
      ]
    },
    {
      "cell_type": "code",
      "metadata": {
        "colab": {
          "base_uri": "https://localhost:8080/"
        },
        "id": "ZUbP8YY3Fwke",
        "outputId": "cfccb681-b0db-4e47-9e45-540fbec1df9c"
      },
      "source": [
        "##################################################\n",
        "# Imports\n",
        "##################################################\n",
        "\n",
        "import numpy as np\n",
        "import numpy.matlib\n",
        "import math\n",
        "import scipy.io\n",
        "from sklearn import svm, datasets\n",
        "import time\n",
        "import matplotlib.pyplot as plt\n",
        "import torch\n",
        "import torch.nn as nn #torch made by layers, in nn we have linear layer which implements standard forward fully connected layer\n",
        "import torch.nn.functional as F \n",
        "import torchvision #used for data loading\n",
        "import torch.optim as optim #optimizer for the gradient\n",
        "from tqdm.notebook import tqdm\n",
        "import time\n",
        "\n",
        "\n",
        "# Setting the device\n",
        "if torch.cuda.is_available(): \n",
        "    print('GPU enabled!')\n",
        "    device = torch.device(\"cuda:0\")\n",
        "else:\n",
        "    print('You are not using the GPU, activate it following:')\n",
        "    "
      ],
      "execution_count": 2,
      "outputs": [
        {
          "output_type": "stream",
          "text": [
            "GPU enabled!\n"
          ],
          "name": "stdout"
        }
      ]
    },
    {
      "cell_type": "code",
      "metadata": {
        "id": "vGQEKA80CLxC"
      },
      "source": [
        "def rotate(image):\n",
        "    image = image.reshape([28, 28])\n",
        "    image = np.fliplr(image)\n",
        "    image = np.rot90(image)\n",
        "    return image\n",
        "    \n",
        "images = np.apply_along_axis(rotate, 1, x_train)\n",
        "plt.imshow(images[1,], cmap=plt.get_cmap('gray')) "
      ],
      "execution_count": null,
      "outputs": []
    },
    {
      "cell_type": "code",
      "metadata": {
        "id": "t7Q0OXOsKDcF"
      },
      "source": [
        "class DBN(nn.Module):\n",
        "  DN = {}\n",
        "  DN['layersize'] = np.array([100, 100, 200])\n",
        "  DN['maxepochs'] = 10\n",
        "  DN['batchsize'] = 500\n",
        "\n",
        "  def __init__(self, layers_nn, maxepochs=50, batchsize=500, epsilonw=0.1, \\\n",
        "                               sparsity=True, spars_factor=0.04, epsilonvb=0.1, epsilonhb=0.1, weightcost=0.0002, init_momentum=0.5, final_momentum=0.9):\n",
        "    super(DBN, self).__init__()\n",
        "    self.DN['layersize'] = layers_nn\n",
        "    self.DN['nlayers'] = len(layers_nn)\n",
        "    self.DN['batchsize'] = batchsize\n",
        "    self.DN['maxepochs'] = maxepochs\n",
        "    self.epsilonw_GPU = epsilonw\n",
        "    self.epsilonvb=epsilonvb\n",
        "    self.epsilonhb=epsilonhb\n",
        "    self.weightcost = weightcost\n",
        "    self.initialmomentum = init_momentum\n",
        "    self.finalmomentum = final_momentum\n",
        "    self.sparsity = sparsity\n",
        "    self.spars_factor = spars_factor\n",
        "    if self.DN['maxepochs']  > 5:\n",
        "      self.momentum = self.finalmomentum\n",
        "    else:\n",
        "      self.momentum = self.initialmomentum\n",
        "  \n",
        "  def train_dbn(self, batchdata, device):\n",
        "\n",
        "    batchdata = batchdata.to(device)\n",
        "    nlayers = self.DN['nlayers']\n",
        "    for layer in range(0, nlayers):\n",
        "        print ('Training layer ', layer+1, '...')\n",
        "        if layer == 0:\n",
        "            data_GPU = batchdata\n",
        "        else:\n",
        "            data_GPU = batchposhidprobs\n",
        "        \n",
        "        data_GPU.to(device)\n",
        "        numhid = self.DN['layersize'][layer]\n",
        "        numcases, numdims, numbatches = data_GPU.shape\n",
        "        vishid_GPU       = 0.1 * torch.randn(numdims, numhid).to(device)\n",
        "        print(vishid_GPU.shape)\n",
        "        hidbiases_GPU    = torch.zeros(numhid).to(device)\n",
        "        visbiases_GPU    = torch.zeros(numdims).to(device)\n",
        "        vishidinc_GPU    = torch.zeros((numdims, numhid)).to(device)\n",
        "        hidbiasinc_GPU   = torch.zeros(numhid).to(device)\n",
        "        visbiasinc_GPU   = torch.zeros(numdims).to(device)\n",
        "        batchposhidprobs = torch.zeros((numcases, numhid, numbatches)).to(device)\n",
        "\n",
        "\n",
        "        sigmoid = nn.Sigmoid()\n",
        "        for epoch in range(self.DN['maxepochs']):\n",
        "            for mb in range(numbatches):\n",
        "                data_mb = data_GPU[:, :, mb]\n",
        "                #%%%%%%%% START POSITIVE PHASE %%%%%%%%%\n",
        "                #1./(1 + exp(-poshidstates * vishid' - repmat(visbiases, numcases, 1))); \n",
        "                poshidprobs_GPU = sigmoid((torch.mm(data_mb, vishid_GPU) + hidbiases_GPU)).to(device)\n",
        "                posprods_GPU    = torch.mm(data_mb.T, poshidprobs_GPU)\n",
        "                poshidact_GPU   = poshidprobs_GPU.sum(0)\n",
        "                #posvisact_GPU   = data_GPU[:, :, mb].sum(0)\n",
        "                posvisact_GPU   = data_mb.sum(0)\n",
        "                #%%%%%%%% END OF POSITIVE PHASE %%%%%%%%%\n",
        "                poshidstates_GPU = poshidprobs_GPU > (torch.rand(numcases, numhid).to(device))\n",
        "                poshidstates_GPU = torch.gt(poshidstates_GPU, 0).float()\n",
        "\n",
        "                #%%%%%%%% START NEGATIVE PHASE  %%%%%%%%%\n",
        "                negdata_GPU     = sigmoid((torch.mm(poshidstates_GPU, vishid_GPU.T) + visbiases_GPU))\n",
        "                neghidprobs_GPU = sigmoid((torch.mm(negdata_GPU, vishid_GPU) + hidbiases_GPU))\n",
        "                negprods_GPU    = torch.mm(negdata_GPU.T, neghidprobs_GPU)\n",
        "                neghidact_GPU   = neghidprobs_GPU.sum(0)\n",
        "                negvisact_GPU   = negdata_GPU.sum(0)\n",
        "                #%%%%%%%% END OF NEGATIVE PHASE %%%%%%%%%\n",
        "\n",
        "                #%%%%%%%% UPDATE WEIGHTS AND BIASES %%%%%%%%%\n",
        "                vishidinc_GPU  = vishidinc_GPU  * self.momentum + ((posprods_GPU - negprods_GPU) / numcases - self.weightcost * vishid_GPU) * self.epsilonw_GPU\n",
        "                visbiasinc_GPU = visbiasinc_GPU * self.momentum + (posvisact_GPU - negvisact_GPU) * (self.epsilonvb / numcases)\n",
        "                hidbiasinc_GPU = hidbiasinc_GPU * self.momentum + (poshidact_GPU - neghidact_GPU) * (self.epsilonhb / numcases)\n",
        "                vishid_GPU     = vishid_GPU + vishidinc_GPU\n",
        "                visbiases_GPU  = visbiases_GPU + visbiasinc_GPU\n",
        "                hidbiases_GPU  = hidbiases_GPU + hidbiasinc_GPU\n",
        "                #%%%%%%%% END OF UPDATES %%%%%%%%%\n",
        "\n",
        "                if epoch == self.DN['maxepochs']-1:\n",
        "                    batchposhidprobs[:, :, mb] = poshidprobs_GPU\n",
        "\n",
        "                #TODO: Sparsity\n",
        "                if self.sparsity and (layer == nlayers-1):\n",
        "                  #poshidact_GPU = poshidprobs_GPU.sum(0)\n",
        "                  Q = poshidact_GPU / self.DN['batchsize']\n",
        "                  if (torch.mean(Q) > self.spars_factor):\n",
        "                    hidbiases_GPU = hidbiases_GPU - self.epsilonhb * (Q - self.spars_factor)\n",
        "\n",
        "        # save learned weights\n",
        "        self.DN['vis_bias' + str(layer)] = visbiases_GPU.cpu().clone().numpy()\n",
        "        self.DN['hid_bias' + str(layer)] = hidbiases_GPU.cpu().clone().numpy()\n",
        "        self.DN['vishid'   + str(layer)] = vishid_GPU.cpu().clone().numpy()\n",
        "        print(self.DN['vishid'   + str(layer)].shape)\n",
        "\n",
        "  def load_data(self, fname, NUMB_CLASSES):\n",
        "    dataset = scipy.io.loadmat(fname)\n",
        "    data_train = dataset['dataset']['train']\n",
        "    data_test = dataset['dataset']['test']\n",
        "    x_train = data_train[0,0]['images'][0,0]\n",
        "    x_train = x_train.astype('float32') / 255\n",
        "    y_train = data_train[0,0]['labels'][0,0]\n",
        "    y_train = y_train.astype(int)\n",
        "    x_test = data_test[0,0]['images'][0,0]\n",
        "    x_test = x_test.astype('float32')  / 255\n",
        "    y_test = data_test[0,0]['labels'][0,0]\n",
        "    y_test = y_test.astype(int)\n",
        "\n",
        "    batchsize = self.DN['batchsize']\n",
        "    iterations = int(len(x_train)/batchsize)\n",
        "    batchdata = np.zeros(shape=(batchsize,784,iterations), dtype='float32')\n",
        "    for i in range(iterations) :\n",
        "        for j in range(batchsize):\n",
        "            batchdata[j, :,i] = x_train[i+j, :]\n",
        "\n",
        "    length_train = int(len(x_train))\n",
        "    tr_labels = np.zeros(shape=(length_train, NUMB_CLASSES))\n",
        "    for i in range(length_train):\n",
        "        tr_labels[i, y_train[i]] = 1\n",
        "\n",
        "    length_test = int(len(y_test))\n",
        "    te_labels = np.zeros(shape=(length_test, NUMB_CLASSES))\n",
        "    for i in range(length_test):\n",
        "        te_labels[i, y_test[i]] = 1\n",
        "\n",
        "    tensor_x = torch.Tensor(batchdata)\n",
        "    tensor_y = torch.Tensor(y_train)\n",
        "    x_trainGPU = torch.from_numpy(batchdata)\n",
        "    return (x_train, tr_labels, x_test, te_labels, x_trainGPU)\n",
        "\n",
        "  "
      ],
      "execution_count": 3,
      "outputs": []
    },
    {
      "cell_type": "code",
      "metadata": {
        "id": "lq-UObsNUNBt"
      },
      "source": [
        "from scipy.linalg import lstsq\n",
        "def perceptron_CPU(tr_patterns, tr_labels, te_patterns, te_labels):\n",
        "\n",
        "  te_accuracy = 0;\n",
        "  tr_accuracy = 0;\n",
        "\n",
        "  # add biases\n",
        "  ONES = np.ones((len(tr_patterns), 1))\n",
        "  tr_patterns_CPU = np.hstack((tr_patterns, ONES))\n",
        "\n",
        "  print(tr_patterns_CPU.shape)\n",
        "  print(tr_labels.shape)\n",
        "  # train with pseudo-inverse\n",
        "  weights, res, rnk, s= lstsq(tr_patterns_CPU, tr_labels)\n",
        "  #weights = (tr_labels'*pinv(tr_patterns'))';\n",
        "\n",
        "  # training accuracy\n",
        "  print(weights.shape)\n",
        "  pred = np.dot(tr_patterns_CPU, weights)\n",
        "  print(pred.shape)\n",
        "  max_act_idx = np.argmax(pred, axis=1)\n",
        "  r = np.nonzero(tr_labels)[1]\n",
        "  acc = max_act_idx == r\n",
        "\n",
        "  tr_accuracy = np.mean(acc)\n",
        "\n",
        "  # test accuracy\n",
        "  ONES = np.ones((len(te_patterns), 1))\n",
        "  te_patterns_CPU = np.hstack((te_patterns, ONES))\n",
        "  pred = np.dot(te_patterns_CPU, weights)\n",
        "  max_act_idx = np.argmax(pred, axis=1)\n",
        "  r = np.nonzero(te_labels)[1]\n",
        "  acc = (max_act_idx == r)\n",
        "  te_accuracy = np.mean(acc)\n",
        "\n",
        "  return (weights, tr_accuracy, te_accuracy)"
      ],
      "execution_count": 4,
      "outputs": []
    },
    {
      "cell_type": "code",
      "metadata": {
        "id": "kaMu9v6TPO9f"
      },
      "source": [
        "namedataset = 'letters'\n",
        "fname = ('/home/emnist-' + namedataset + '.mat')\n",
        "\n",
        "layers_nn = np.array([784, 500, 2000]) # 1400\n",
        "\n",
        "x1 = time.strftime('%s')\n",
        "dbn_model = DBN(layers_nn = layers_nn, sparsity=False, batchsize=260)\n",
        "\n",
        "x_train, y_train, x_test, y_test, x_trainGPU = dbn_model.load_data(fname, int(47))\n",
        "\n",
        "x2 = time.strftime('%s')\n",
        "timediff = int(x2) - int(x1)\n",
        "#print '\\nElapsed time: ', timediff, ' seconds.'\n",
        "# save final network and parameters\n",
        "#scipy.io.savemat('DN.mat', {'DN': DN})"
      ],
      "execution_count": 20,
      "outputs": []
    },
    {
      "cell_type": "code",
      "metadata": {
        "id": "AGRQyeCgjrlx",
        "colab": {
          "base_uri": "https://localhost:8080/"
        },
        "outputId": "770d0eb9-9ace-4823-b0fc-c1f9c7bd7876"
      },
      "source": [
        "dbn_model = dbn_model.to(device)\n",
        "dbn_model.train_dbn(x_trainGPU, device=device)"
      ],
      "execution_count": 21,
      "outputs": [
        {
          "output_type": "stream",
          "text": [
            "Training layer  1 ...\n",
            "torch.Size([784, 784])\n",
            "(784, 784)\n",
            "Training layer  2 ...\n",
            "torch.Size([784, 500])\n",
            "(784, 500)\n",
            "Training layer  3 ...\n",
            "torch.Size([500, 2000])\n",
            "(500, 2000)\n"
          ],
          "name": "stdout"
        }
      ]
    },
    {
      "cell_type": "code",
      "metadata": {
        "colab": {
          "base_uri": "https://localhost:8080/"
        },
        "id": "22jA7Lakk01r",
        "outputId": "2c2b6e71-3e28-4653-d012-50cffe48fc3e"
      },
      "source": [
        "(weights, tr_accuracy, te_accuracy) = perceptron_CPU(x_train, y_train, x_test, y_test)\n",
        "print('Raw data perceptron training accuracy: {0:.2f}, test accuracy: {1:.2f}'.format(tr_accuracy * 100, te_accuracy * 100))"
      ],
      "execution_count": 15,
      "outputs": [
        {
          "output_type": "stream",
          "text": [
            "(124800, 785)\n",
            "(124800, 47)\n",
            "(785, 47)\n",
            "(124800, 47)\n",
            "Raw data perceptron training accuracy: 59.30, test accuracy: 57.81\n"
          ],
          "name": "stdout"
        }
      ]
    },
    {
      "cell_type": "code",
      "metadata": {
        "colab": {
          "base_uri": "https://localhost:8080/"
        },
        "id": "S5rAEVg9mOeS",
        "outputId": "4b3ca6f4-03e6-4640-a88c-6b6aa0cfcca3"
      },
      "source": [
        "vishid0= dbn_model.DN['vishid0']\n",
        "hid_bias0 = dbn_model.DN['hid_bias0']\n",
        "H0_tr = 1 /(1 + np.exp(-np.dot(x_train, vishid0) - np.matlib.repmat(hid_bias0, len(x_train), 1)));\n",
        "H0_te = 1 /(1 + np.exp(-np.dot(x_test, vishid0) - np.matlib.repmat(hid_bias0, len(x_test), 1)));\n",
        "(weights, tr_accuracy, te_accuracy) = perceptron_CPU(H0_tr, y_train, H0_te, y_test);\n",
        "print('Raw data perceptron training accuracy: {0:.2f}, test accuracy: {1:.2f}'.format(tr_accuracy * 100, te_accuracy * 100))\n",
        "\n",
        "vishid1= dbn_model.DN['vishid1']\n",
        "hid_bias1 = dbn_model.DN['hid_bias1']\n",
        "H1_tr = 1 /(1 + np.exp(-np.dot(H0_tr, vishid1) - np.matlib.repmat(hid_bias1, len(H0_tr), 1)));\n",
        "H1_te = 1 /(1 + np.exp(-np.dot(H0_te, vishid1) - np.matlib.repmat(hid_bias1, len(H0_te), 1)));\n",
        "(weights, tr_accuracy, te_accuracy) = perceptron_CPU(H1_tr, y_train, H1_te, y_test);\n",
        "print('Raw data perceptron training accuracy: {0:.2f}, test accuracy: {1:.2f}'.format(tr_accuracy * 100, te_accuracy * 100))\n"
      ],
      "execution_count": 22,
      "outputs": [
        {
          "output_type": "stream",
          "text": [
            "(124800, 785)\n",
            "(124800, 47)\n",
            "(785, 47)\n",
            "(124800, 47)\n",
            "Raw data perceptron training accuracy: 77.02, test accuracy: 76.19\n",
            "(124800, 501)\n",
            "(124800, 47)\n",
            "(501, 47)\n",
            "(124800, 47)\n",
            "Raw data perceptron training accuracy: 76.23, test accuracy: 75.37\n"
          ],
          "name": "stdout"
        }
      ]
    },
    {
      "cell_type": "code",
      "metadata": {
        "colab": {
          "base_uri": "https://localhost:8080/"
        },
        "id": "Bc304gIz1iLd",
        "outputId": "50c49241-69fb-455e-e7cd-f8d493caeabf"
      },
      "source": [
        "vishid2= dbn_model.DN['vishid2']\n",
        "hid_bias2 = dbn_model.DN['hid_bias2']\n",
        "H2_tr = 1 /(1 + np.exp(-np.dot(H1_tr, vishid2) - np.matlib.repmat(hid_bias2, len(H1_tr), 1)));\n",
        "H2_te = 1 /(1 + np.exp(-np.dot(H1_te, vishid2) - np.matlib.repmat(hid_bias2, len(H1_te), 1)));\n",
        "(weights, tr_accuracy, te_accuracy) = perceptron_CPU(H2_tr, y_train, H2_te, y_test);\n",
        "print('Raw data perceptron training accuracy: {0:.2f}, test accuracy: {1:.2f}'.format(tr_accuracy * 100, te_accuracy * 100))\n",
        "\n"
      ],
      "execution_count": 23,
      "outputs": [
        {
          "output_type": "stream",
          "text": [
            "(124800, 2001)\n",
            "(124800, 47)\n",
            "(2001, 47)\n",
            "(124800, 47)\n",
            "Raw data perceptron training accuracy: 84.36, test accuracy: 83.08\n"
          ],
          "name": "stdout"
        }
      ]
    },
    {
      "cell_type": "code",
      "metadata": {
        "id": "4ozO39q1IoB0"
      },
      "source": [
        "vishid3= dbn_model.DN['vishid3']\n",
        "hid_bias3 = dbn_model.DN['hid_bias3']\n",
        "H3_tr = 1 /(1 + np.exp(-np.dot(H2_tr, vishid3) - np.matlib.repmat(hid_bias3, len(H2_tr), 1)));\n",
        "H3_te = 1 /(1 + np.exp(-np.dot(H2_te, vishid3) - np.matlib.repmat(hid_bias3, len(H2_te), 1)));\n",
        "(weights, tr_accuracy, te_accuracy) = perceptron_CPU(H3_tr, y_train, H3_te, y_test);\n",
        "print('Raw data perceptron training accuracy: {0:.2f}, test accuracy: {1:.2f}'.format(tr_accuracy * 100, te_accuracy * 100))"
      ],
      "execution_count": null,
      "outputs": []
    },
    {
      "cell_type": "code",
      "metadata": {
        "id": "nBhWd9n2BGTz"
      },
      "source": [
        "savematname = 'DN_COLAB_' + namedataset + '.mat'\n",
        "scipy.io.savemat(savematname, {'DN': dbn_model.DN})"
      ],
      "execution_count": 24,
      "outputs": []
    },
    {
      "cell_type": "code",
      "metadata": {
        "id": "DggJBHfyfTtT"
      },
      "source": [
        ""
      ],
      "execution_count": null,
      "outputs": []
    },
    {
      "cell_type": "code",
      "metadata": {
        "colab": {
          "base_uri": "https://localhost:8080/",
          "height": 611
        },
        "id": "KVos6eMIQ0Yb",
        "outputId": "91cdf21d-f3f0-4a42-9f50-557e934ed151"
      },
      "source": [
        "learned_weights = dbn_model.DN['vishid0'].transpose(1, 0)\n",
        "print(learned_weights.shape)\n",
        "plt.show()\n",
        "fig = plt.figure(3, figsize=(10,10))\n",
        "for i in range(25): \n",
        "    sub = fig.add_subplot(5, 5, i+1)\n",
        "    sub.imshow(learned_weights[i,:].reshape((28,28)), cmap=plt.cm.gray)\n",
        "plt.show()"
      ],
      "execution_count": 11,
      "outputs": [
        {
          "output_type": "stream",
          "text": [
            "(500, 784)\n"
          ],
          "name": "stdout"
        },
        {
          "output_type": "display_data",
          "data": {
            "image/png": "[encoded data removed]",
            "text/plain": [
              "<Figure size 720x720 with 25 Axes>"
            ]
          },
          "metadata": {
            "tags": [],
            "needs_background": "light"
          }
        }
      ]
    },
    {
      "cell_type": "code",
      "metadata": {
        "id": "YMuCBKW6780m"
      },
      "source": [
        "import cv2 as cv\n",
        "def plot_layer(DN, n_hidden):\n",
        "  #self.DN['vis_bias' layer]\n",
        "  #self.DN['hid_bias' layer]\n",
        "  v, h = DN['vishid1'].shape # number of visible and hidden units\n",
        "  imgsize = math.sqrt(v);\n",
        "  if n_hidden > h:\n",
        "      n_hidden = h;\n",
        "\n",
        "  n_x = math.floor(math.sqrt(n_hidden))\n",
        "  n_y = n_x\n",
        "  n_hidden = n_x * n_y;\n",
        "\n",
        "  plt.show()\n",
        "  fig = plt.figure(3, figsize=(10,10)) \n",
        "  for i_n in range(n_hidden):\n",
        "    # Select (strong) inputs to L3(i_n)\n",
        "    W3 = DN['vishid2'][:, i_n]\n",
        "    #W3 = W3.detach().cpu().clone().numpy()\n",
        "    W3 = np.multiply(W3, (np.abs(W3) > 0.0))\n",
        "    # Select (strong) inputs to L2\n",
        "    W2 = DN['vishid1']\n",
        "    #W2 = W2.detach().cpu().clone().numpy()\n",
        "    W2 = np.multiply(W2, (np.abs(W2) > 0.0))\n",
        "    # Select (strong) inputs to L1\n",
        "    W1 = DN['vishid0']\n",
        "    #W1 = W1.detach().cpu().clone().numpy()\n",
        "    W1 = np.multiply(W1, (np.abs(W1) > 0.0))\n",
        "    \n",
        "    # Weight filters with a linear combination\n",
        "    ww = np.dot(W1, W2)\n",
        "    ww = np.dot(ww, W3)\n",
        "    ww = np.multiply(ww, np.abs(ww) > 0.0) # threshold\n",
        "    print(max(abs(ww)))\n",
        "    ww=ww/max(abs(ww))\n",
        "\n",
        "    print(ww.shape)\n",
        "    #print(ww)\n",
        "    sub = fig.add_subplot(n_y, n_x, i+1)\n",
        "    sub.imshow(ww.reshape((imgsize, imgsize)), cmap=plt.cm.gray)\n",
        "    plt.show()\n",
        "    #pl = subplot(n_y, n_x, i_n)\n",
        "    #imagesc(reshape(ww,imgsize,imgsize)); %(1:end-2)\n",
        "    #colormap('gray'); axis square; axis off\n"
      ],
      "execution_count": null,
      "outputs": []
    },
    {
      "cell_type": "code",
      "metadata": {
        "colab": {
          "base_uri": "https://localhost:8080/",
          "height": 406
        },
        "id": "kb6PGO5Dma69",
        "outputId": "ea14d599-3068-4bb2-e949-e51155facd4c"
      },
      "source": [
        "plot_layer(dbn_model.DN, 100)"
      ],
      "execution_count": null,
      "outputs": [
        {
          "output_type": "stream",
          "text": [
            "1077.323\n",
            "(784,)\n"
          ],
          "name": "stdout"
        },
        {
          "output_type": "error",
          "ename": "TypeError",
          "evalue": "ignored",
          "traceback": [
            "\u001b[0;31m---------------------------------------------------------------------------\u001b[0m",
            "\u001b[0;31mTypeError\u001b[0m                                 Traceback (most recent call last)",
            "\u001b[0;32m<ipython-input-125-d67f6fa0f4a8>\u001b[0m in \u001b[0;36m<module>\u001b[0;34m()\u001b[0m\n\u001b[0;32m----> 1\u001b[0;31m \u001b[0mplot_layer\u001b[0m\u001b[0;34m(\u001b[0m\u001b[0mdbn_model\u001b[0m\u001b[0;34m.\u001b[0m\u001b[0mDN\u001b[0m\u001b[0;34m,\u001b[0m \u001b[0;36m100\u001b[0m\u001b[0;34m)\u001b[0m\u001b[0;34m\u001b[0m\u001b[0;34m\u001b[0m\u001b[0m\n\u001b[0m",
            "\u001b[0;32m<ipython-input-124-2aeeccc7bbda>\u001b[0m in \u001b[0;36mplot_layer\u001b[0;34m(DN, n_hidden)\u001b[0m\n\u001b[1;32m     38\u001b[0m     \u001b[0;31m#print(ww)\u001b[0m\u001b[0;34m\u001b[0m\u001b[0;34m\u001b[0m\u001b[0;34m\u001b[0m\u001b[0m\n\u001b[1;32m     39\u001b[0m     \u001b[0msub\u001b[0m \u001b[0;34m=\u001b[0m \u001b[0mfig\u001b[0m\u001b[0;34m.\u001b[0m\u001b[0madd_subplot\u001b[0m\u001b[0;34m(\u001b[0m\u001b[0mn_y\u001b[0m\u001b[0;34m,\u001b[0m \u001b[0mn_x\u001b[0m\u001b[0;34m,\u001b[0m \u001b[0mi\u001b[0m\u001b[0;34m+\u001b[0m\u001b[0;36m1\u001b[0m\u001b[0;34m)\u001b[0m\u001b[0;34m\u001b[0m\u001b[0;34m\u001b[0m\u001b[0m\n\u001b[0;32m---> 40\u001b[0;31m     \u001b[0msub\u001b[0m\u001b[0;34m.\u001b[0m\u001b[0mimshow\u001b[0m\u001b[0;34m(\u001b[0m\u001b[0mww\u001b[0m\u001b[0;34m.\u001b[0m\u001b[0mreshape\u001b[0m\u001b[0;34m(\u001b[0m\u001b[0;34m(\u001b[0m\u001b[0mimgsize\u001b[0m\u001b[0;34m,\u001b[0m \u001b[0mimgsize\u001b[0m\u001b[0;34m)\u001b[0m\u001b[0;34m)\u001b[0m\u001b[0;34m,\u001b[0m \u001b[0mcmap\u001b[0m\u001b[0;34m=\u001b[0m\u001b[0mplt\u001b[0m\u001b[0;34m.\u001b[0m\u001b[0mcm\u001b[0m\u001b[0;34m.\u001b[0m\u001b[0mgray\u001b[0m\u001b[0;34m)\u001b[0m\u001b[0;34m\u001b[0m\u001b[0;34m\u001b[0m\u001b[0m\n\u001b[0m\u001b[1;32m     41\u001b[0m     \u001b[0mplt\u001b[0m\u001b[0;34m.\u001b[0m\u001b[0mshow\u001b[0m\u001b[0;34m(\u001b[0m\u001b[0;34m)\u001b[0m\u001b[0;34m\u001b[0m\u001b[0;34m\u001b[0m\u001b[0m\n\u001b[1;32m     42\u001b[0m     \u001b[0;31m#pl = subplot(n_y, n_x, i_n)\u001b[0m\u001b[0;34m\u001b[0m\u001b[0;34m\u001b[0m\u001b[0;34m\u001b[0m\u001b[0m\n",
            "\u001b[0;31mTypeError\u001b[0m: 'float' object cannot be interpreted as an integer"
          ]
        },
        {
          "output_type": "display_data",
          "data": {
            "image/png": "[encoded data removed]",
            "text/plain": [
              "<Figure size 720x720 with 1 Axes>"
            ]
          },
          "metadata": {
            "tags": [],
            "needs_background": "light"
          }
        }
      ]
    }
  ]
}